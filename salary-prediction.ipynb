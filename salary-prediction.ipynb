{
 "cells": [
  {
   "cell_type": "code",
   "execution_count": 1,
   "id": "8f16e2a2",
   "metadata": {
    "_cell_guid": "b1076dfc-b9ad-4769-8c92-a6c4dae69d19",
    "_uuid": "8f2839f25d086af736a60e9eeb907d3b93b6e0e5",
    "execution": {
     "iopub.execute_input": "2023-11-05T06:41:11.958750Z",
     "iopub.status.busy": "2023-11-05T06:41:11.957834Z",
     "iopub.status.idle": "2023-11-05T06:41:13.821057Z",
     "shell.execute_reply": "2023-11-05T06:41:13.819754Z"
    },
    "papermill": {
     "duration": 1.875245,
     "end_time": "2023-11-05T06:41:13.823884",
     "exception": false,
     "start_time": "2023-11-05T06:41:11.948639",
     "status": "completed"
    },
    "tags": []
   },
   "outputs": [],
   "source": [
    "# importing modules\n",
    "import pandas as pd\n",
    "import matplotlib.pyplot as plt \n",
    "import numpy as np\n",
    "\n",
    "# for data selection\n",
    "from sklearn.model_selection import train_test_split\n",
    "# Import the LinearRegression class\n",
    "from sklearn.linear_model import LinearRegression\n",
    "from sklearn.metrics import mean_squared_error, r2_score"
   ]
  },
  {
   "cell_type": "markdown",
   "id": "76a151df",
   "metadata": {
    "papermill": {
     "duration": 0.006552,
     "end_time": "2023-11-05T06:41:13.839242",
     "exception": false,
     "start_time": "2023-11-05T06:41:13.832690",
     "status": "completed"
    },
    "tags": []
   },
   "source": [
    "**<h1>Data Cleaning</h1>**"
   ]
  },
  {
   "cell_type": "code",
   "execution_count": 2,
   "id": "4a8fdb9a",
   "metadata": {
    "execution": {
     "iopub.execute_input": "2023-11-05T06:41:13.854628Z",
     "iopub.status.busy": "2023-11-05T06:41:13.854097Z",
     "iopub.status.idle": "2023-11-05T06:41:13.905804Z",
     "shell.execute_reply": "2023-11-05T06:41:13.904613Z"
    },
    "papermill": {
     "duration": 0.062638,
     "end_time": "2023-11-05T06:41:13.908509",
     "exception": false,
     "start_time": "2023-11-05T06:41:13.845871",
     "status": "completed"
    },
    "tags": []
   },
   "outputs": [
    {
     "data": {
      "text/html": [
       "<div>\n",
       "<style scoped>\n",
       "    .dataframe tbody tr th:only-of-type {\n",
       "        vertical-align: middle;\n",
       "    }\n",
       "\n",
       "    .dataframe tbody tr th {\n",
       "        vertical-align: top;\n",
       "    }\n",
       "\n",
       "    .dataframe thead th {\n",
       "        text-align: right;\n",
       "    }\n",
       "</style>\n",
       "<table border=\"1\" class=\"dataframe\">\n",
       "  <thead>\n",
       "    <tr style=\"text-align: right;\">\n",
       "      <th></th>\n",
       "      <th>Age</th>\n",
       "      <th>Gender</th>\n",
       "      <th>Education Level</th>\n",
       "      <th>Job Title</th>\n",
       "      <th>Years of Experience</th>\n",
       "      <th>Salary</th>\n",
       "    </tr>\n",
       "  </thead>\n",
       "  <tbody>\n",
       "    <tr>\n",
       "      <th>0</th>\n",
       "      <td>32.0</td>\n",
       "      <td>Male</td>\n",
       "      <td>Bachelor's</td>\n",
       "      <td>Software Engineer</td>\n",
       "      <td>5.0</td>\n",
       "      <td>90000.0</td>\n",
       "    </tr>\n",
       "    <tr>\n",
       "      <th>1</th>\n",
       "      <td>28.0</td>\n",
       "      <td>Female</td>\n",
       "      <td>Master's</td>\n",
       "      <td>Data Analyst</td>\n",
       "      <td>3.0</td>\n",
       "      <td>65000.0</td>\n",
       "    </tr>\n",
       "    <tr>\n",
       "      <th>2</th>\n",
       "      <td>45.0</td>\n",
       "      <td>Male</td>\n",
       "      <td>PhD</td>\n",
       "      <td>Senior Manager</td>\n",
       "      <td>15.0</td>\n",
       "      <td>150000.0</td>\n",
       "    </tr>\n",
       "    <tr>\n",
       "      <th>3</th>\n",
       "      <td>36.0</td>\n",
       "      <td>Female</td>\n",
       "      <td>Bachelor's</td>\n",
       "      <td>Sales Associate</td>\n",
       "      <td>7.0</td>\n",
       "      <td>60000.0</td>\n",
       "    </tr>\n",
       "    <tr>\n",
       "      <th>4</th>\n",
       "      <td>52.0</td>\n",
       "      <td>Male</td>\n",
       "      <td>Master's</td>\n",
       "      <td>Director</td>\n",
       "      <td>20.0</td>\n",
       "      <td>200000.0</td>\n",
       "    </tr>\n",
       "  </tbody>\n",
       "</table>\n",
       "</div>"
      ],
      "text/plain": [
       "    Age  Gender Education Level          Job Title  Years of Experience  \\\n",
       "0  32.0    Male      Bachelor's  Software Engineer                  5.0   \n",
       "1  28.0  Female        Master's       Data Analyst                  3.0   \n",
       "2  45.0    Male             PhD     Senior Manager                 15.0   \n",
       "3  36.0  Female      Bachelor's    Sales Associate                  7.0   \n",
       "4  52.0    Male        Master's           Director                 20.0   \n",
       "\n",
       "     Salary  \n",
       "0   90000.0  \n",
       "1   65000.0  \n",
       "2  150000.0  \n",
       "3   60000.0  \n",
       "4  200000.0  "
      ]
     },
     "execution_count": 2,
     "metadata": {},
     "output_type": "execute_result"
    }
   ],
   "source": [
    "data = pd.DataFrame(pd.read_csv(\"/kaggle/input/salaly-prediction-for-beginer/Salary Data.csv\"))\n",
    "data.head()"
   ]
  },
  {
   "cell_type": "code",
   "execution_count": 3,
   "id": "8347d6ce",
   "metadata": {
    "execution": {
     "iopub.execute_input": "2023-11-05T06:41:13.925457Z",
     "iopub.status.busy": "2023-11-05T06:41:13.924779Z",
     "iopub.status.idle": "2023-11-05T06:41:13.933188Z",
     "shell.execute_reply": "2023-11-05T06:41:13.932032Z"
    },
    "papermill": {
     "duration": 0.019775,
     "end_time": "2023-11-05T06:41:13.935558",
     "exception": false,
     "start_time": "2023-11-05T06:41:13.915783",
     "status": "completed"
    },
    "tags": []
   },
   "outputs": [
    {
     "name": "stdout",
     "output_type": "stream",
     "text": [
      "Null Values in Dataset :- \n",
      " Age                    2\n",
      "Gender                 2\n",
      "Education Level        2\n",
      "Job Title              2\n",
      "Years of Experience    2\n",
      "Salary                 2\n",
      "dtype: int64 \n",
      "\n",
      "2250 \n",
      " (375, 6)\n"
     ]
    }
   ],
   "source": [
    "print(\"Null Values in Dataset :- \\n\",data.isnull().sum(),\"\\n\")\n",
    "print(data.size,\"\\n\",data.shape)"
   ]
  },
  {
   "cell_type": "code",
   "execution_count": 4,
   "id": "f22b7545",
   "metadata": {
    "execution": {
     "iopub.execute_input": "2023-11-05T06:41:13.952049Z",
     "iopub.status.busy": "2023-11-05T06:41:13.951405Z",
     "iopub.status.idle": "2023-11-05T06:41:13.960953Z",
     "shell.execute_reply": "2023-11-05T06:41:13.960191Z"
    },
    "papermill": {
     "duration": 0.020416,
     "end_time": "2023-11-05T06:41:13.963176",
     "exception": false,
     "start_time": "2023-11-05T06:41:13.942760",
     "status": "completed"
    },
    "tags": []
   },
   "outputs": [
    {
     "data": {
      "text/plain": [
       "(373, 6)"
      ]
     },
     "execution_count": 4,
     "metadata": {},
     "output_type": "execute_result"
    }
   ],
   "source": [
    "data_new = data.dropna()\n",
    "data_new.isnull().sum()\n",
    "data_new.shape"
   ]
  },
  {
   "cell_type": "code",
   "execution_count": 5,
   "id": "f077f905",
   "metadata": {
    "execution": {
     "iopub.execute_input": "2023-11-05T06:41:13.979518Z",
     "iopub.status.busy": "2023-11-05T06:41:13.978931Z",
     "iopub.status.idle": "2023-11-05T06:41:14.103330Z",
     "shell.execute_reply": "2023-11-05T06:41:14.102188Z"
    },
    "papermill": {
     "duration": 0.135521,
     "end_time": "2023-11-05T06:41:14.105837",
     "exception": false,
     "start_time": "2023-11-05T06:41:13.970316",
     "status": "completed"
    },
    "tags": []
   },
   "outputs": [
    {
     "name": "stdout",
     "output_type": "stream",
     "text": [
      "<class 'pandas.core.frame.DataFrame'>\n",
      "Index: 373 entries, 0 to 374\n",
      "Data columns (total 6 columns):\n",
      " #   Column               Non-Null Count  Dtype  \n",
      "---  ------               --------------  -----  \n",
      " 0   Age                  373 non-null    float64\n",
      " 1   Gender               373 non-null    object \n",
      " 2   Education Level      373 non-null    object \n",
      " 3   Job Title            373 non-null    object \n",
      " 4   Years of Experience  373 non-null    float64\n",
      " 5   Salary               373 non-null    float64\n",
      "dtypes: float64(3), object(3)\n",
      "memory usage: 20.4+ KB\n"
     ]
    },
    {
     "data": {
      "text/html": [
       "<div>\n",
       "<style scoped>\n",
       "    .dataframe tbody tr th:only-of-type {\n",
       "        vertical-align: middle;\n",
       "    }\n",
       "\n",
       "    .dataframe tbody tr th {\n",
       "        vertical-align: top;\n",
       "    }\n",
       "\n",
       "    .dataframe thead th {\n",
       "        text-align: right;\n",
       "    }\n",
       "</style>\n",
       "<table border=\"1\" class=\"dataframe\">\n",
       "  <thead>\n",
       "    <tr style=\"text-align: right;\">\n",
       "      <th></th>\n",
       "      <th>Age</th>\n",
       "      <th>Years of Experience</th>\n",
       "      <th>Salary</th>\n",
       "    </tr>\n",
       "  </thead>\n",
       "  <tbody>\n",
       "    <tr>\n",
       "      <th>count</th>\n",
       "      <td>373.000000</td>\n",
       "      <td>373.000000</td>\n",
       "      <td>373.000000</td>\n",
       "    </tr>\n",
       "    <tr>\n",
       "      <th>mean</th>\n",
       "      <td>37.431635</td>\n",
       "      <td>10.030831</td>\n",
       "      <td>100577.345845</td>\n",
       "    </tr>\n",
       "    <tr>\n",
       "      <th>std</th>\n",
       "      <td>7.069073</td>\n",
       "      <td>6.557007</td>\n",
       "      <td>48240.013482</td>\n",
       "    </tr>\n",
       "    <tr>\n",
       "      <th>min</th>\n",
       "      <td>23.000000</td>\n",
       "      <td>0.000000</td>\n",
       "      <td>350.000000</td>\n",
       "    </tr>\n",
       "    <tr>\n",
       "      <th>25%</th>\n",
       "      <td>31.000000</td>\n",
       "      <td>4.000000</td>\n",
       "      <td>55000.000000</td>\n",
       "    </tr>\n",
       "    <tr>\n",
       "      <th>50%</th>\n",
       "      <td>36.000000</td>\n",
       "      <td>9.000000</td>\n",
       "      <td>95000.000000</td>\n",
       "    </tr>\n",
       "    <tr>\n",
       "      <th>75%</th>\n",
       "      <td>44.000000</td>\n",
       "      <td>15.000000</td>\n",
       "      <td>140000.000000</td>\n",
       "    </tr>\n",
       "    <tr>\n",
       "      <th>max</th>\n",
       "      <td>53.000000</td>\n",
       "      <td>25.000000</td>\n",
       "      <td>250000.000000</td>\n",
       "    </tr>\n",
       "  </tbody>\n",
       "</table>\n",
       "</div>"
      ],
      "text/plain": [
       "              Age  Years of Experience         Salary\n",
       "count  373.000000           373.000000     373.000000\n",
       "mean    37.431635            10.030831  100577.345845\n",
       "std      7.069073             6.557007   48240.013482\n",
       "min     23.000000             0.000000     350.000000\n",
       "25%     31.000000             4.000000   55000.000000\n",
       "50%     36.000000             9.000000   95000.000000\n",
       "75%     44.000000            15.000000  140000.000000\n",
       "max     53.000000            25.000000  250000.000000"
      ]
     },
     "execution_count": 5,
     "metadata": {},
     "output_type": "execute_result"
    }
   ],
   "source": [
    "# a summary of the dataset\n",
    "data_new.info()\n",
    "\n",
    "# basic stats\n",
    "data_new.describe()"
   ]
  },
  {
   "cell_type": "markdown",
   "id": "29ca9596",
   "metadata": {
    "papermill": {
     "duration": 0.007172,
     "end_time": "2023-11-05T06:41:14.120541",
     "exception": false,
     "start_time": "2023-11-05T06:41:14.113369",
     "status": "completed"
    },
    "tags": []
   },
   "source": [
    " **<h1>Data Visualization</h1>**"
   ]
  },
  {
   "cell_type": "code",
   "execution_count": 6,
   "id": "571a3fea",
   "metadata": {
    "execution": {
     "iopub.execute_input": "2023-11-05T06:41:14.137729Z",
     "iopub.status.busy": "2023-11-05T06:41:14.137036Z",
     "iopub.status.idle": "2023-11-05T06:41:14.411881Z",
     "shell.execute_reply": "2023-11-05T06:41:14.411005Z"
    },
    "papermill": {
     "duration": 0.286337,
     "end_time": "2023-11-05T06:41:14.414350",
     "exception": false,
     "start_time": "2023-11-05T06:41:14.128013",
     "status": "completed"
    },
    "tags": []
   },
   "outputs": [
    {
     "data": {
      "image/png": "[encoded data removed]",
      "text/plain": [
       "<Figure size 640x480 with 1 Axes>"
      ]
     },
     "metadata": {},
     "output_type": "display_data"
    }
   ],
   "source": [
    "# Create a line plot\n",
    "plt.scatter(data_new['Age'], data_new['Salary'], color='red', s=6)\n",
    "\n",
    "# Customize the plot\n",
    "plt.title('Salary vs Age')\n",
    "plt.xlabel('Age')\n",
    "plt.ylabel('Salary')\n",
    "\n",
    "# Show the plot\n",
    "plt.show()"
   ]
  },
  {
   "cell_type": "code",
   "execution_count": 7,
   "id": "c0673ece",
   "metadata": {
    "execution": {
     "iopub.execute_input": "2023-11-05T06:41:14.432474Z",
     "iopub.status.busy": "2023-11-05T06:41:14.432037Z",
     "iopub.status.idle": "2023-11-05T06:41:14.663083Z",
     "shell.execute_reply": "2023-11-05T06:41:14.662221Z"
    },
    "papermill": {
     "duration": 0.242649,
     "end_time": "2023-11-05T06:41:14.665219",
     "exception": false,
     "start_time": "2023-11-05T06:41:14.422570",
     "status": "completed"
    },
    "tags": []
   },
   "outputs": [
    {
     "data": {
      "image/png": "[encoded data removed]",
      "text/plain": [
       "<Figure size 640x480 with 1 Axes>"
      ]
     },
     "metadata": {},
     "output_type": "display_data"
    }
   ],
   "source": [
    "# Create a line plot\n",
    "plt.scatter(data_new['Years of Experience'], data_new['Salary'], color='blue', s=7)\n",
    "\n",
    "# Customize the plot\n",
    "plt.title('Salary vs Experience')\n",
    "plt.xlabel('Years of Experience')\n",
    "plt.ylabel('Salary')\n",
    "\n",
    "# Show the plot\n",
    "plt.show()"
   ]
  },
  {
   "cell_type": "markdown",
   "id": "c1d9fe43",
   "metadata": {
    "papermill": {
     "duration": 0.008346,
     "end_time": "2023-11-05T06:41:14.682074",
     "exception": false,
     "start_time": "2023-11-05T06:41:14.673728",
     "status": "completed"
    },
    "tags": []
   },
   "source": [
    " **<h1>Data Selection</h1>**"
   ]
  },
  {
   "cell_type": "code",
   "execution_count": 8,
   "id": "4b9d3301",
   "metadata": {
    "execution": {
     "iopub.execute_input": "2023-11-05T06:41:14.701346Z",
     "iopub.status.busy": "2023-11-05T06:41:14.700613Z",
     "iopub.status.idle": "2023-11-05T06:41:14.721971Z",
     "shell.execute_reply": "2023-11-05T06:41:14.721152Z"
    },
    "papermill": {
     "duration": 0.033525,
     "end_time": "2023-11-05T06:41:14.724128",
     "exception": false,
     "start_time": "2023-11-05T06:41:14.690603",
     "status": "completed"
    },
    "tags": []
   },
   "outputs": [
    {
     "data": {
      "text/html": [
       "<div>\n",
       "<style scoped>\n",
       "    .dataframe tbody tr th:only-of-type {\n",
       "        vertical-align: middle;\n",
       "    }\n",
       "\n",
       "    .dataframe tbody tr th {\n",
       "        vertical-align: top;\n",
       "    }\n",
       "\n",
       "    .dataframe thead th {\n",
       "        text-align: right;\n",
       "    }\n",
       "</style>\n",
       "<table border=\"1\" class=\"dataframe\">\n",
       "  <thead>\n",
       "    <tr style=\"text-align: right;\">\n",
       "      <th></th>\n",
       "      <th>Age</th>\n",
       "      <th>Gender</th>\n",
       "      <th>Education Level</th>\n",
       "      <th>Job Title</th>\n",
       "      <th>Years of Experience</th>\n",
       "      <th>Salary</th>\n",
       "    </tr>\n",
       "  </thead>\n",
       "  <tbody>\n",
       "    <tr>\n",
       "      <th>0</th>\n",
       "      <td>32.0</td>\n",
       "      <td>Male</td>\n",
       "      <td>Bachelor's</td>\n",
       "      <td>Software Engineer</td>\n",
       "      <td>5.0</td>\n",
       "      <td>90000.0</td>\n",
       "    </tr>\n",
       "    <tr>\n",
       "      <th>1</th>\n",
       "      <td>28.0</td>\n",
       "      <td>Female</td>\n",
       "      <td>Master's</td>\n",
       "      <td>Data Analyst</td>\n",
       "      <td>3.0</td>\n",
       "      <td>65000.0</td>\n",
       "    </tr>\n",
       "    <tr>\n",
       "      <th>2</th>\n",
       "      <td>45.0</td>\n",
       "      <td>Male</td>\n",
       "      <td>PhD</td>\n",
       "      <td>Senior Manager</td>\n",
       "      <td>15.0</td>\n",
       "      <td>150000.0</td>\n",
       "    </tr>\n",
       "    <tr>\n",
       "      <th>3</th>\n",
       "      <td>36.0</td>\n",
       "      <td>Female</td>\n",
       "      <td>Bachelor's</td>\n",
       "      <td>Sales Associate</td>\n",
       "      <td>7.0</td>\n",
       "      <td>60000.0</td>\n",
       "    </tr>\n",
       "    <tr>\n",
       "      <th>4</th>\n",
       "      <td>52.0</td>\n",
       "      <td>Male</td>\n",
       "      <td>Master's</td>\n",
       "      <td>Director</td>\n",
       "      <td>20.0</td>\n",
       "      <td>200000.0</td>\n",
       "    </tr>\n",
       "    <tr>\n",
       "      <th>...</th>\n",
       "      <td>...</td>\n",
       "      <td>...</td>\n",
       "      <td>...</td>\n",
       "      <td>...</td>\n",
       "      <td>...</td>\n",
       "      <td>...</td>\n",
       "    </tr>\n",
       "    <tr>\n",
       "      <th>370</th>\n",
       "      <td>35.0</td>\n",
       "      <td>Female</td>\n",
       "      <td>Bachelor's</td>\n",
       "      <td>Senior Marketing Analyst</td>\n",
       "      <td>8.0</td>\n",
       "      <td>85000.0</td>\n",
       "    </tr>\n",
       "    <tr>\n",
       "      <th>371</th>\n",
       "      <td>43.0</td>\n",
       "      <td>Male</td>\n",
       "      <td>Master's</td>\n",
       "      <td>Director of Operations</td>\n",
       "      <td>19.0</td>\n",
       "      <td>170000.0</td>\n",
       "    </tr>\n",
       "    <tr>\n",
       "      <th>372</th>\n",
       "      <td>29.0</td>\n",
       "      <td>Female</td>\n",
       "      <td>Bachelor's</td>\n",
       "      <td>Junior Project Manager</td>\n",
       "      <td>2.0</td>\n",
       "      <td>40000.0</td>\n",
       "    </tr>\n",
       "    <tr>\n",
       "      <th>373</th>\n",
       "      <td>34.0</td>\n",
       "      <td>Male</td>\n",
       "      <td>Bachelor's</td>\n",
       "      <td>Senior Operations Coordinator</td>\n",
       "      <td>7.0</td>\n",
       "      <td>90000.0</td>\n",
       "    </tr>\n",
       "    <tr>\n",
       "      <th>374</th>\n",
       "      <td>44.0</td>\n",
       "      <td>Female</td>\n",
       "      <td>PhD</td>\n",
       "      <td>Senior Business Analyst</td>\n",
       "      <td>15.0</td>\n",
       "      <td>150000.0</td>\n",
       "    </tr>\n",
       "  </tbody>\n",
       "</table>\n",
       "<p>373 rows × 6 columns</p>\n",
       "</div>"
      ],
      "text/plain": [
       "      Age  Gender Education Level                      Job Title  \\\n",
       "0    32.0    Male      Bachelor's              Software Engineer   \n",
       "1    28.0  Female        Master's                   Data Analyst   \n",
       "2    45.0    Male             PhD                 Senior Manager   \n",
       "3    36.0  Female      Bachelor's                Sales Associate   \n",
       "4    52.0    Male        Master's                       Director   \n",
       "..    ...     ...             ...                            ...   \n",
       "370  35.0  Female      Bachelor's       Senior Marketing Analyst   \n",
       "371  43.0    Male        Master's         Director of Operations   \n",
       "372  29.0  Female      Bachelor's         Junior Project Manager   \n",
       "373  34.0    Male      Bachelor's  Senior Operations Coordinator   \n",
       "374  44.0  Female             PhD        Senior Business Analyst   \n",
       "\n",
       "     Years of Experience    Salary  \n",
       "0                    5.0   90000.0  \n",
       "1                    3.0   65000.0  \n",
       "2                   15.0  150000.0  \n",
       "3                    7.0   60000.0  \n",
       "4                   20.0  200000.0  \n",
       "..                   ...       ...  \n",
       "370                  8.0   85000.0  \n",
       "371                 19.0  170000.0  \n",
       "372                  2.0   40000.0  \n",
       "373                  7.0   90000.0  \n",
       "374                 15.0  150000.0  \n",
       "\n",
       "[373 rows x 6 columns]"
      ]
     },
     "execution_count": 8,
     "metadata": {},
     "output_type": "execute_result"
    }
   ],
   "source": [
    "data_new"
   ]
  },
  {
   "cell_type": "code",
   "execution_count": 9,
   "id": "c212bcf9",
   "metadata": {
    "execution": {
     "iopub.execute_input": "2023-11-05T06:41:14.744043Z",
     "iopub.status.busy": "2023-11-05T06:41:14.743578Z",
     "iopub.status.idle": "2023-11-05T06:41:14.751132Z",
     "shell.execute_reply": "2023-11-05T06:41:14.750015Z"
    },
    "papermill": {
     "duration": 0.020669,
     "end_time": "2023-11-05T06:41:14.753607",
     "exception": false,
     "start_time": "2023-11-05T06:41:14.732938",
     "status": "completed"
    },
    "tags": []
   },
   "outputs": [],
   "source": [
    "x2 =  np.array(data_new[[\"Age\",\"Years of Experience\"]])\n",
    "y2 = np.array(data_new[\"Salary\"])"
   ]
  },
  {
   "cell_type": "code",
   "execution_count": 10,
   "id": "c18cd80a",
   "metadata": {
    "execution": {
     "iopub.execute_input": "2023-11-05T06:41:14.773541Z",
     "iopub.status.busy": "2023-11-05T06:41:14.772758Z",
     "iopub.status.idle": "2023-11-05T06:41:14.778249Z",
     "shell.execute_reply": "2023-11-05T06:41:14.777460Z"
    },
    "papermill": {
     "duration": 0.017975,
     "end_time": "2023-11-05T06:41:14.780490",
     "exception": false,
     "start_time": "2023-11-05T06:41:14.762515",
     "status": "completed"
    },
    "tags": []
   },
   "outputs": [],
   "source": [
    "# spliting the dataset\n",
    "x_train , x_test , y_train , y_test = train_test_split(x2,y2,test_size=0.3)"
   ]
  },
  {
   "cell_type": "markdown",
   "id": "627b4c28",
   "metadata": {
    "papermill": {
     "duration": 0.008486,
     "end_time": "2023-11-05T06:41:14.797884",
     "exception": false,
     "start_time": "2023-11-05T06:41:14.789398",
     "status": "completed"
    },
    "tags": []
   },
   "source": [
    " **<h1>Multiple Linear Regression</h1>**"
   ]
  },
  {
   "cell_type": "code",
   "execution_count": 11,
   "id": "fc32f7b7",
   "metadata": {
    "execution": {
     "iopub.execute_input": "2023-11-05T06:41:14.817619Z",
     "iopub.status.busy": "2023-11-05T06:41:14.816835Z",
     "iopub.status.idle": "2023-11-05T06:41:14.852625Z",
     "shell.execute_reply": "2023-11-05T06:41:14.851462Z"
    },
    "papermill": {
     "duration": 0.048641,
     "end_time": "2023-11-05T06:41:14.855173",
     "exception": false,
     "start_time": "2023-11-05T06:41:14.806532",
     "status": "completed"
    },
    "tags": []
   },
   "outputs": [
    {
     "data": {
      "text/html": [
       "<style>#sk-container-id-1 {color: black;background-color: white;}#sk-container-id-1 pre{padding: 0;}#sk-container-id-1 div.sk-toggleable {background-color: white;}#sk-container-id-1 label.sk-toggleable__label {cursor: pointer;display: block;width: 100%;margin-bottom: 0;padding: 0.3em;box-sizing: border-box;text-align: center;}#sk-container-id-1 label.sk-toggleable__label-arrow:before {content: \"▸\";float: left;margin-right: 0.25em;color: #696969;}#sk-container-id-1 label.sk-toggleable__label-arrow:hover:before {color: black;}#sk-container-id-1 div.sk-estimator:hover label.sk-toggleable__label-arrow:before {color: black;}#sk-container-id-1 div.sk-toggleable__content {max-height: 0;max-width: 0;overflow: hidden;text-align: left;background-color: #f0f8ff;}#sk-container-id-1 div.sk-toggleable__content pre {margin: 0.2em;color: black;border-radius: 0.25em;background-color: #f0f8ff;}#sk-container-id-1 input.sk-toggleable__control:checked~div.sk-toggleable__content {max-height: 200px;max-width: 100%;overflow: auto;}#sk-container-id-1 input.sk-toggleable__control:checked~label.sk-toggleable__label-arrow:before {content: \"▾\";}#sk-container-id-1 div.sk-estimator input.sk-toggleable__control:checked~label.sk-toggleable__label {background-color: #d4ebff;}#sk-container-id-1 div.sk-label input.sk-toggleable__control:checked~label.sk-toggleable__label {background-color: #d4ebff;}#sk-container-id-1 input.sk-hidden--visually {border: 0;clip: rect(1px 1px 1px 1px);clip: rect(1px, 1px, 1px, 1px);height: 1px;margin: -1px;overflow: hidden;padding: 0;position: absolute;width: 1px;}#sk-container-id-1 div.sk-estimator {font-family: monospace;background-color: #f0f8ff;border: 1px dotted black;border-radius: 0.25em;box-sizing: border-box;margin-bottom: 0.5em;}#sk-container-id-1 div.sk-estimator:hover {background-color: #d4ebff;}#sk-container-id-1 div.sk-parallel-item::after {content: \"\";width: 100%;border-bottom: 1px solid gray;flex-grow: 1;}#sk-container-id-1 div.sk-label:hover label.sk-toggleable__label {background-color: #d4ebff;}#sk-container-id-1 div.sk-serial::before {content: \"\";position: absolute;border-left: 1px solid gray;box-sizing: border-box;top: 0;bottom: 0;left: 50%;z-index: 0;}#sk-container-id-1 div.sk-serial {display: flex;flex-direction: column;align-items: center;background-color: white;padding-right: 0.2em;padding-left: 0.2em;position: relative;}#sk-container-id-1 div.sk-item {position: relative;z-index: 1;}#sk-container-id-1 div.sk-parallel {display: flex;align-items: stretch;justify-content: center;background-color: white;position: relative;}#sk-container-id-1 div.sk-item::before, #sk-container-id-1 div.sk-parallel-item::before {content: \"\";position: absolute;border-left: 1px solid gray;box-sizing: border-box;top: 0;bottom: 0;left: 50%;z-index: -1;}#sk-container-id-1 div.sk-parallel-item {display: flex;flex-direction: column;z-index: 1;position: relative;background-color: white;}#sk-container-id-1 div.sk-parallel-item:first-child::after {align-self: flex-end;width: 50%;}#sk-container-id-1 div.sk-parallel-item:last-child::after {align-self: flex-start;width: 50%;}#sk-container-id-1 div.sk-parallel-item:only-child::after {width: 0;}#sk-container-id-1 div.sk-dashed-wrapped {border: 1px dashed gray;margin: 0 0.4em 0.5em 0.4em;box-sizing: border-box;padding-bottom: 0.4em;background-color: white;}#sk-container-id-1 div.sk-label label {font-family: monospace;font-weight: bold;display: inline-block;line-height: 1.2em;}#sk-container-id-1 div.sk-label-container {text-align: center;}#sk-container-id-1 div.sk-container {/* jupyter's `normalize.less` sets `[hidden] { display: none; }` but bootstrap.min.css set `[hidden] { display: none !important; }` so we also need the `!important` here to be able to override the default hidden behavior on the sphinx rendered scikit-learn.org. See: https://github.com/scikit-learn/scikit-learn/issues/21755 */display: inline-block !important;position: relative;}#sk-container-id-1 div.sk-text-repr-fallback {display: none;}</style><div id=\"sk-container-id-1\" class=\"sk-top-container\"><div class=\"sk-text-repr-fallback\"><pre>LinearRegression()</pre><b>In a Jupyter environment, please rerun this cell to show the HTML representation or trust the notebook. <br />On GitHub, the HTML representation is unable to render, please try loading this page with nbviewer.org.</b></div><div class=\"sk-container\" hidden><div class=\"sk-item\"><div class=\"sk-estimator sk-toggleable\"><input class=\"sk-toggleable__control sk-hidden--visually\" id=\"sk-estimator-id-1\" type=\"checkbox\" checked><label for=\"sk-estimator-id-1\" class=\"sk-toggleable__label sk-toggleable__label-arrow\">LinearRegression</label><div class=\"sk-toggleable__content\"><pre>LinearRegression()</pre></div></div></div></div></div>"
      ],
      "text/plain": [
       "LinearRegression()"
      ]
     },
     "execution_count": 11,
     "metadata": {},
     "output_type": "execute_result"
    }
   ],
   "source": [
    "reg = LinearRegression()\n",
    "reg.fit(x_train,y_train)"
   ]
  },
  {
   "cell_type": "code",
   "execution_count": 12,
   "id": "b04c1ffe",
   "metadata": {
    "execution": {
     "iopub.execute_input": "2023-11-05T06:41:14.875926Z",
     "iopub.status.busy": "2023-11-05T06:41:14.875477Z",
     "iopub.status.idle": "2023-11-05T06:41:14.880631Z",
     "shell.execute_reply": "2023-11-05T06:41:14.879498Z"
    },
    "papermill": {
     "duration": 0.018599,
     "end_time": "2023-11-05T06:41:14.883041",
     "exception": false,
     "start_time": "2023-11-05T06:41:14.864442",
     "status": "completed"
    },
    "tags": []
   },
   "outputs": [],
   "source": [
    "y_predict = reg.predict(x_test)"
   ]
  },
  {
   "cell_type": "code",
   "execution_count": 13,
   "id": "6aa56ef5",
   "metadata": {
    "execution": {
     "iopub.execute_input": "2023-11-05T06:41:14.903642Z",
     "iopub.status.busy": "2023-11-05T06:41:14.902844Z",
     "iopub.status.idle": "2023-11-05T06:41:14.911092Z",
     "shell.execute_reply": "2023-11-05T06:41:14.909817Z"
    },
    "papermill": {
     "duration": 0.021241,
     "end_time": "2023-11-05T06:41:14.913436",
     "exception": false,
     "start_time": "2023-11-05T06:41:14.892195",
     "status": "completed"
    },
    "tags": []
   },
   "outputs": [
    {
     "name": "stdout",
     "output_type": "stream",
     "text": [
      "R-squared (R2): 0.85\n",
      "Mean Squared Error (MSE): 346420840.74\n"
     ]
    }
   ],
   "source": [
    "# Calculate the R-squared (coefficient of determination)\n",
    "r2 = r2_score(y_test, y_predict)\n",
    "\n",
    "# Calculate the mean squared error (MSE)\n",
    "mse = mean_squared_error(y_test, y_predict)\n",
    "\n",
    "# Print the results\n",
    "print(f\"R-squared (R2): {r2:.2f}\")\n",
    "print(f\"Mean Squared Error (MSE): {mse:.2f}\")"
   ]
  },
  {
   "cell_type": "code",
   "execution_count": 14,
   "id": "63f5ea04",
   "metadata": {
    "execution": {
     "iopub.execute_input": "2023-11-05T06:41:14.934234Z",
     "iopub.status.busy": "2023-11-05T06:41:14.933427Z",
     "iopub.status.idle": "2023-11-05T06:41:14.940153Z",
     "shell.execute_reply": "2023-11-05T06:41:14.939005Z"
    },
    "papermill": {
     "duration": 0.019612,
     "end_time": "2023-11-05T06:41:14.942437",
     "exception": false,
     "start_time": "2023-11-05T06:41:14.922825",
     "status": "completed"
    },
    "tags": []
   },
   "outputs": [
    {
     "name": "stdout",
     "output_type": "stream",
     "text": [
      "The model accuracy using the R2 score: 85.08%\n"
     ]
    }
   ],
   "source": [
    "# Calculate the model accuracy as a percentage\n",
    "accuracy_percentage = r2 * 100\n",
    "\n",
    "# Print the results\n",
    "print(f\"The model accuracy using the R2 score: {accuracy_percentage:.2f}%\")"
   ]
  },
  {
   "cell_type": "markdown",
   "id": "7f724312",
   "metadata": {
    "papermill": {
     "duration": 0.009015,
     "end_time": "2023-11-05T06:41:14.961021",
     "exception": false,
     "start_time": "2023-11-05T06:41:14.952006",
     "status": "completed"
    },
    "tags": []
   },
   "source": [
    " **<h1>Plotting the Model</h1>**"
   ]
  },
  {
   "cell_type": "code",
   "execution_count": 15,
   "id": "75812ef6",
   "metadata": {
    "execution": {
     "iopub.execute_input": "2023-11-05T06:41:14.982296Z",
     "iopub.status.busy": "2023-11-05T06:41:14.981689Z",
     "iopub.status.idle": "2023-11-05T06:41:15.307354Z",
     "shell.execute_reply": "2023-11-05T06:41:15.306052Z"
    },
    "papermill": {
     "duration": 0.339268,
     "end_time": "2023-11-05T06:41:15.309809",
     "exception": false,
     "start_time": "2023-11-05T06:41:14.970541",
     "status": "completed"
    },
    "tags": []
   },
   "outputs": [
    {
     "data": {
      "image/png": "[encoded data removed]",
      "text/plain": [
       "<Figure size 640x480 with 1 Axes>"
      ]
     },
     "metadata": {},
     "output_type": "display_data"
    }
   ],
   "source": [
    "\n",
    "# Create a scatter plot\n",
    "plt.scatter(y_test, y_predict, color='black', label='Observed vs. Predicted')\n",
    "\n",
    "# Add labels and title\n",
    "plt.xlabel('Observed Values')\n",
    "plt.ylabel('Predicted Values')\n",
    "plt.title('Multiple Linear Regression')\n",
    "\n",
    "# Add a regression line (y = x)\n",
    "plt.plot([min(y_test), max(y_test)], [min(y_test), max(y_test)], color='red', linestyle='--', linewidth=2, label='Perfect Prediction')\n",
    "\n",
    "# Show the legend\n",
    "plt.legend()\n",
    "\n",
    "# Display the plot\n",
    "plt.show()"
   ]
  }
 ],
 "metadata": {
  "kernelspec": {
   "display_name": "Python 3",
   "language": "python",
   "name": "python3"
  },
  "language_info": {
   "codemirror_mode": {
    "name": "ipython",
    "version": 3
   },
   "file_extension": ".py",
   "mimetype": "text/x-python",
   "name": "python",
   "nbconvert_exporter": "python",
   "pygments_lexer": "ipython3",
   "version": "3.10.12"
  },
  "papermill": {
   "default_parameters": {},
   "duration": 7.737414,
   "end_time": "2023-11-05T06:41:15.940851",
   "environment_variables": {},
   "exception": null,
   "input_path": "__notebook__.ipynb",
   "output_path": "__notebook__.ipynb",
   "parameters": {},
   "start_time": "2023-11-05T06:41:08.203437",
   "version": "2.4.0"
  }
 },
 "nbformat": 4,
 "nbformat_minor": 5
}
